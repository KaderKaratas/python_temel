{
 "cells": [
  {
   "cell_type": "markdown",
   "id": "fff7404e-63c7-403e-9268-a8dcb95d8708",
   "metadata": {},
   "source": [
    "1.Soru"
   ]
  },
  {
   "cell_type": "code",
   "execution_count": 15,
   "id": "16e2e067-db5b-4910-9497-554bd2781c7a",
   "metadata": {},
   "outputs": [
    {
     "name": "stdout",
     "output_type": "stream",
     "text": [
      "{14520, 11347, 12699}\n"
     ]
    }
   ],
   "source": [
    "students = [14520,11347, 12699, 12337, 11450, 15147, 12547, 13341]\n",
    "Ascholar = [11450, 15147, 12547]\n",
    "Bscholar = [12337, 11450, 12547, 13341]\n",
    "set1=set(Ascholar).union(set(Bscholar))\n",
    "\n",
    "set2=(set(students)).difference(set1)\n",
    "print(set2)"
   ]
  },
  {
   "cell_type": "markdown",
   "id": "b6a8915a-fa4d-4067-8ac9-1824fde85a3e",
   "metadata": {},
   "source": [
    "2.Soru"
   ]
  },
  {
   "cell_type": "code",
   "execution_count": 7,
   "id": "d0c07fb7-a4dc-455c-a44b-f4d8dd91026c",
   "metadata": {},
   "outputs": [
    {
     "data": {
      "text/plain": [
       "{'a', 'c', 'd'}"
      ]
     },
     "execution_count": 7,
     "metadata": {},
     "output_type": "execute_result"
    }
   ],
   "source": [
    "x = {\"a\",\"b\",\"c\",\"d\",\"e\"}\n",
    "y = {\"h\",\"j\",\"c\",\"d\",\"k\"}\n",
    "z = {\"i\",\"b\",\"e\",\"d\",\"n\"}\n",
    "\n",
    "x - y & z ^ x\n"
   ]
  },
  {
   "cell_type": "markdown",
   "id": "15b036b0-f3ca-42a5-887f-a2339ba75c75",
   "metadata": {},
   "source": [
    "3.Soru"
   ]
  },
  {
   "cell_type": "code",
   "execution_count": 19,
   "id": "1c22730b-599e-46f7-8da6-b01295ea1779",
   "metadata": {},
   "outputs": [
    {
     "name": "stdout",
     "output_type": "stream",
     "text": [
      "{5, 'red'}\n"
     ]
    }
   ],
   "source": [
    "x=set()\n",
    "x.add(\"red\")\n",
    "x.add(5)\n",
    "\n",
    "print(x)"
   ]
  },
  {
   "cell_type": "markdown",
   "id": "666df6de-d419-4f7f-92bd-843dd55a761d",
   "metadata": {},
   "source": [
    "4.Soru"
   ]
  },
  {
   "cell_type": "code",
   "execution_count": 98,
   "id": "c8c3b607-8f0f-43c5-9677-06f03be3d4d8",
   "metadata": {},
   "outputs": [
    {
     "name": "stdout",
     "output_type": "stream",
     "text": [
      "(4, 45)\n"
     ]
    }
   ],
   "source": [
    "A = [1, 3, 4, 6,7]\n",
    "B = [7, 3, 45, 6]\n",
    "x = dict(zip(A,B))\n",
    "\n",
    "z=filter(lambda c:c[1]==45,x.items())\n",
    "print(*z)"
   ]
  },
  {
   "cell_type": "markdown",
   "id": "e50caf7f-6287-48c4-84b2-c7b0631b4efc",
   "metadata": {},
   "source": [
    "5.Soru"
   ]
  },
  {
   "cell_type": "code",
   "execution_count": 28,
   "id": "e165d73c-f55d-490e-b799-71d0a3975c7d",
   "metadata": {},
   "outputs": [
    {
     "name": "stdout",
     "output_type": "stream",
     "text": [
      "{'g', 'q', 'c', 'd', 'f', 'a', 'v', 'p', 'r', 'w', 't', 'k', 'b', 'l', 'n', 'j', 'h', 'm', 'o', 'i', 'y', 's', 'x', 'z', 'u', 'e'}\n"
     ]
    }
   ],
   "source": [
    "turkish = 'abcçdefgğhıijklmnoöprsştuüvyz'\n",
    "nonEnglish = 'çğıöşü'\n",
    "onlyEnglish = 'qxw'\n",
    "English=set(turkish)-set(nonEnglish)\n",
    "English.update(set(onlyEnglish))\n",
    "print(English)"
   ]
  },
  {
   "cell_type": "markdown",
   "id": "dcfd9e44-1e82-4a65-a495-462a8dc66e14",
   "metadata": {},
   "source": [
    "6.Soru"
   ]
  },
  {
   "cell_type": "code",
   "execution_count": 58,
   "id": "fef9b5b1-af2f-4d8d-8d5f-580dcd69d45c",
   "metadata": {},
   "outputs": [
    {
     "name": "stdout",
     "output_type": "stream",
     "text": [
      "  3\n",
      "314.1000\n"
     ]
    }
   ],
   "source": [
    "students=open(\"names_file.txt\", \"w\")\n"
   ]
  },
  {
   "cell_type": "markdown",
   "id": "e02c55b6-e365-47d8-a38e-210d15171aaf",
   "metadata": {},
   "source": [
    "7.Soru"
   ]
  },
  {
   "cell_type": "code",
   "execution_count": 64,
   "id": "3e69ae1f-01b4-47a4-a6c8-5602185de2dd",
   "metadata": {},
   "outputs": [
    {
     "name": "stdout",
     "output_type": "stream",
     "text": [
      "721\n",
      "879\n",
      "721.5600\n"
     ]
    }
   ],
   "source": [
    "x=878.741\n",
    "y=7.2156e2\n",
    "z=16.8\n",
    "\n",
    "print (\"%.f\"%7.2144e2)\n",
    "print (\"%3.0f\\n%3.4f\"%(878.741,7.2156e2))\n"
   ]
  },
  {
   "cell_type": "code",
   "execution_count": 107,
   "id": "9cd9b839-e48f-43a1-96cd-5691c9d8ef8a",
   "metadata": {},
   "outputs": [
    {
     "data": {
      "text/plain": [
       "[0.0,\n",
       " 1.0,\n",
       " 1.4142135623730951,\n",
       " 1.7320508075688772,\n",
       " 2.0,\n",
       " 2.23606797749979,\n",
       " 2.449489742783178,\n",
       " 2.6457513110645907,\n",
       " 2.8284271247461903,\n",
       " 3.0]"
      ]
     },
     "execution_count": 107,
     "metadata": {},
     "output_type": "execute_result"
    }
   ],
   "source": [
    "l = list(range(10))\n",
    "\n",
    "def square(x):\n",
    "    return x**0.5\n",
    "\n",
    "m = list(  map(lambda x:x**0.5,l ) )\n",
    "m"
   ]
  },
  {
   "cell_type": "code",
   "execution_count": null,
   "id": "5d9be845-369d-40ac-95a1-33efb639f7a6",
   "metadata": {},
   "outputs": [],
   "source": []
  },
  {
   "cell_type": "code",
   "execution_count": 122,
   "id": "7a7d85f2-5241-4b1a-ba85-caf1e22e88fd",
   "metadata": {},
   "outputs": [
    {
     "data": {
      "text/plain": [
       "{('BME362', 6), ('Introduction', 12), ('Python', 6), ('To', 2)}"
      ]
     },
     "execution_count": 122,
     "metadata": {},
     "output_type": "execute_result"
    }
   ],
   "source": [
    "x = \"BME362 Introduction To Python\"\n",
    "y= [6,12,2,6]\n",
    "m = dict(zip ((x.split()), map(lambda x:len(x),x.split() )) )\n",
    "\n",
    "set(m.items())\n"
   ]
  },
  {
   "cell_type": "code",
   "execution_count": 134,
   "id": "2eeed1c0-d1bd-479c-9d04-b9fc883ecf7f",
   "metadata": {},
   "outputs": [
    {
     "name": "stdout",
     "output_type": "stream",
     "text": [
      "False False True False False False True\n"
     ]
    },
    {
     "ename": "TypeError",
     "evalue": "list indices must be integers or slices, not map",
     "output_type": "error",
     "traceback": [
      "\u001b[1;31m---------------------------------------------------------------------------\u001b[0m",
      "\u001b[1;31mTypeError\u001b[0m                                 Traceback (most recent call last)",
      "Cell \u001b[1;32mIn[134], line 4\u001b[0m\n\u001b[0;32m      2\u001b[0m f\u001b[38;5;241m=\u001b[39m\u001b[38;5;28mmap\u001b[39m(\u001b[38;5;28;01mlambda\u001b[39;00m x:x[:\u001b[38;5;241m2\u001b[39m]\u001b[38;5;241m==\u001b[39m\u001b[38;5;124m'\u001b[39m\u001b[38;5;124m13\u001b[39m\u001b[38;5;124m'\u001b[39m , numaralar)\n\u001b[0;32m      3\u001b[0m \u001b[38;5;28mprint\u001b[39m(\u001b[38;5;241m*\u001b[39mf)\n\u001b[1;32m----> 4\u001b[0m numaralar[f]\n",
      "\u001b[1;31mTypeError\u001b[0m: list indices must be integers or slices, not map"
     ]
    }
   ],
   "source": [
    "numaralar = ['12290383', '11290263', '13290193','14290211', '15290055', '10290403', '13290356']\n",
    "f=map(lambda x:x[:2]=='13' , numaralar)\n",
    "print(*f)\n",
    "numaralar[f]"
   ]
  },
  {
   "cell_type": "code",
   "execution_count": 4,
   "id": "1d5b8578-63ad-4d88-8d3c-afd0fcf2a822",
   "metadata": {},
   "outputs": [],
   "source": []
  },
  {
   "cell_type": "code",
   "execution_count": null,
   "id": "79c8bf53-ae68-4845-974e-c40dff6442b3",
   "metadata": {},
   "outputs": [],
   "source": []
  },
  {
   "cell_type": "code",
   "execution_count": null,
   "id": "daeec7f4-195f-435a-ac42-5fbc08b8bd62",
   "metadata": {},
   "outputs": [],
   "source": []
  }
 ],
 "metadata": {
  "kernelspec": {
   "display_name": "Python [conda env:base] *",
   "language": "python",
   "name": "conda-base-py"
  },
  "language_info": {
   "codemirror_mode": {
    "name": "ipython",
    "version": 3
   },
   "file_extension": ".py",
   "mimetype": "text/x-python",
   "name": "python",
   "nbconvert_exporter": "python",
   "pygments_lexer": "ipython3",
   "version": "3.12.7"
  }
 },
 "nbformat": 4,
 "nbformat_minor": 5
}
