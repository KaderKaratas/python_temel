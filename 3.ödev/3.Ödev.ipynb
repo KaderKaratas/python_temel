{
 "cells": [
  {
   "cell_type": "markdown",
   "id": "07c7c3aa-d48f-4bcc-b82f-be517b9fdf36",
   "metadata": {},
   "source": [
    "1.Soru"
   ]
  },
  {
   "cell_type": "code",
   "execution_count": 1,
   "id": "2568088c-0964-41da-8c42-1bdbf583b937",
   "metadata": {},
   "outputs": [
    {
     "data": {
      "text/plain": [
       "77.0"
      ]
     },
     "execution_count": 1,
     "metadata": {},
     "output_type": "execute_result"
    }
   ],
   "source": [
    "midterm  = {\"11386074\":56,\"13478060\":66,\"13147214\":87}\n",
    "final    = {\"11386074\":78, \"13478060\":88, \"13147214\":77}\n",
    "students = {\"Kazım Gök\": \"11386074\", \"Ahmet KILIÇ\":\"13478060\", \"Veli Demir\":\"13147214\"}\n",
    "\n",
    "students_no   = students[\"Ahmet KILIÇ\"]\n",
    "midterm_score = midterm[students_no]\n",
    "final_score   = final[students_no]\n",
    "\n",
    "average_score = (midterm_score+final_score)/2\n",
    "average_score"
   ]
  },
  {
   "cell_type": "markdown",
   "id": "10788280-2f63-439d-bb63-14e6a22a44fb",
   "metadata": {},
   "source": [
    "2.Soru"
   ]
  },
  {
   "cell_type": "code",
   "execution_count": 5,
   "id": "d9109bfa-bbab-4c7f-b005-8fe79f332ead",
   "metadata": {},
   "outputs": [
    {
     "name": "stdout",
     "output_type": "stream",
     "text": [
      "{'red': 'kırmızı', 'green': 'yeşil', 'blue': 'mavi'}\n"
     ]
    }
   ],
   "source": [
    "dic = {\"kırmızı\":\"red\",\"yeşil\":\"green\",\"mavi\":\"blue\"}\n",
    "reversed_dict = {v: k for k, v in dic.items()}\n",
    "print(reversed_dict)\n"
   ]
  },
  {
   "cell_type": "markdown",
   "id": "e5718c4b-7ea2-4693-9fba-f4803e87db27",
   "metadata": {},
   "source": [
    "3.Soru"
   ]
  },
  {
   "cell_type": "code",
   "execution_count": 6,
   "id": "a3b13d51-b217-4dac-b7e9-df7e4fba0e59",
   "metadata": {},
   "outputs": [
    {
     "data": {
      "text/plain": [
       "{'red': 'kırmızı', 'green': 'yeşil', 'blue': 'mavi'}"
      ]
     },
     "execution_count": 6,
     "metadata": {},
     "output_type": "execute_result"
    }
   ],
   "source": [
    "english=[\"red\",\"green\",\"blue\"]\n",
    "turkish=[\"kırmızı\",\"yeşil\",\"mavi\"]\n",
    "new_dic=dict(zip(english,turkish))\n",
    "new_dic\n"
   ]
  },
  {
   "cell_type": "markdown",
   "id": "e6f679a9-d1d2-44fc-a6ee-a60c4075eb78",
   "metadata": {},
   "source": [
    "4.Soru"
   ]
  },
  {
   "cell_type": "code",
   "execution_count": 12,
   "id": "3e285264-f2cc-4b59-a360-ed6d538a3715",
   "metadata": {},
   "outputs": [
    {
     "data": {
      "text/plain": [
       "73.875"
      ]
     },
     "execution_count": 12,
     "metadata": {},
     "output_type": "execute_result"
    }
   ],
   "source": [
    "final = {\"074\":78, \"060\":88, \"214\":77,\"663\":66,\"142\":83,\"541\":55,\"742\":75,\"117\":69}\n",
    "toplam=0\n",
    "for x in final.values():\n",
    "    scores=x\n",
    "    toplam+=x\n",
    "\n",
    "averages=toplam/len(final)\n",
    "averages\n",
    "    \n",
    "    \n",
    "    \n",
    "    "
   ]
  },
  {
   "cell_type": "markdown",
   "id": "acb2ec9d-6681-45fd-af98-8bbb211c767b",
   "metadata": {},
   "source": [
    "kısa çözüm"
   ]
  },
  {
   "cell_type": "code",
   "execution_count": 13,
   "id": "39efdee9-c3b5-4c7f-9320-54f6cf754114",
   "metadata": {},
   "outputs": [
    {
     "name": "stdout",
     "output_type": "stream",
     "text": [
      "Sınıfın final ortalaması: 73.875\n"
     ]
    }
   ],
   "source": [
    "final = {\"074\":78, \"060\":88, \"214\":77,\"663\":66,\"142\":83,\"541\":55,\"742\":75,\"117\":69}\n",
    "toplam = sum(final.values())\n",
    "\n",
    "ortalama = toplam / len(final)\n",
    "\n",
    "print(\"Sınıfın final ortalaması:\", ortalama)"
   ]
  },
  {
   "cell_type": "markdown",
   "id": "76453d3e-bc0d-4ab1-acb6-c9f7b08f4cbb",
   "metadata": {},
   "source": [
    "5.Soru"
   ]
  },
  {
   "cell_type": "code",
   "execution_count": 15,
   "id": "91a0c138-f048-4f88-8837-b1fa8868375d",
   "metadata": {},
   "outputs": [
    {
     "data": {
      "text/plain": [
       "{'kırmızı': 'red',\n",
       " 'yeşil': 'green',\n",
       " 'mavi': 'blue',\n",
       " 'turuncu': 'orange',\n",
       " 'kahverengi': 'brown',\n",
       " 'mor': 'purple'}"
      ]
     },
     "execution_count": 15,
     "metadata": {},
     "output_type": "execute_result"
    }
   ],
   "source": [
    "dic1 = {\"kırmızı\":\"red\",\"yeşil\":\"green\",\"mavi\":\"blue\"}\n",
    "\n",
    "dic2 = {\"turuncu\":\"orange\",\"kahverengi\":\"brown\",\"mor\":\"purple\"}\n",
    "\n",
    "dic1.update(dic2)\n",
    "dic1"
   ]
  },
  {
   "cell_type": "markdown",
   "id": "61fdd84b-5d4c-4359-9e97-4226adda32a4",
   "metadata": {},
   "source": [
    "6.Soru ???"
   ]
  },
  {
   "cell_type": "code",
   "execution_count": 16,
   "id": "7149506f-7b5c-43b6-b7fd-d0837684bed5",
   "metadata": {},
   "outputs": [],
   "source": [
    "x=['Veli BAL','Ali AK','Hakan YILMAZ','İbrahim DEMİR','Osman ÇELİK','Zeynep TAŞ']\n"
   ]
  }
 ],
 "metadata": {
  "kernelspec": {
   "display_name": "Python [conda env:base] *",
   "language": "python",
   "name": "conda-base-py"
  },
  "language_info": {
   "codemirror_mode": {
    "name": "ipython",
    "version": 3
   },
   "file_extension": ".py",
   "mimetype": "text/x-python",
   "name": "python",
   "nbconvert_exporter": "python",
   "pygments_lexer": "ipython3",
   "version": "3.12.7"
  }
 },
 "nbformat": 4,
 "nbformat_minor": 5
}
