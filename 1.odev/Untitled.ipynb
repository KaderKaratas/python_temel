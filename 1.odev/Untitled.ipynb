{
 "cells": [
  {
   "cell_type": "code",
   "execution_count": null,
   "id": "4106221c-de89-42ca-8253-b27bc3cc2425",
   "metadata": {},
   "outputs": [],
   "source": [
    "x=24\n",
    "y=\n"
   ]
  },
  {
   "cell_type": "code",
   "execution_count": null,
   "id": "3c9e84e8-02ef-4a3c-85d9-667c9446206a",
   "metadata": {},
   "outputs": [],
   "source": []
  }
 ],
 "metadata": {
  "kernelspec": {
   "display_name": "Python [conda env:first_project]",
   "language": "python",
   "name": "conda-env-first_project-py"
  },
  "language_info": {
   "codemirror_mode": {
    "name": "ipython",
    "version": 3
   },
   "file_extension": ".py",
   "mimetype": "text/x-python",
   "name": "python",
   "nbconvert_exporter": "python",
   "pygments_lexer": "ipython3",
   "version": "3.10.16"
  }
 },
 "nbformat": 4,
 "nbformat_minor": 5
}
